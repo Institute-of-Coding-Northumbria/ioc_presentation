{
  "nbformat": 4,
  "nbformat_minor": 0,
  "metadata": {
    "colab": {
      "name": "HandwrittenDigitRecognition-IoC.ipynb",
      "version": "0.3.2",
      "provenance": [],
      "collapsed_sections": [
        "jgIwu27CbEyr"
      ],
      "include_colab_link": true
    },
    "kernelspec": {
      "name": "python3",
      "display_name": "Python 3"
    },
    "accelerator": "GPU"
  },
  "cells": [
    {
      "cell_type": "markdown",
      "metadata": {
        "id": "view-in-github",
        "colab_type": "text"
      },
      "source": [
        "<a href=\"https://colab.research.google.com/github/furkantektas/ioc_presentation/blob/master/HandwrittenDigitRecognition_IoC.ipynb\" target=\"_parent\"><img src=\"https://colab.research.google.com/assets/colab-badge.svg\" alt=\"Open In Colab\"/></a>"
      ]
    },
    {
      "cell_type": "markdown",
      "metadata": {
        "id": "sb1VSXNgaGvP",
        "colab_type": "text"
      },
      "source": [
        "# RECOGNIZING HAND WRITTEN DIGITS WITH AI\n",
        "\n",
        "\n",
        "\n",
        "---\n"
      ]
    },
    {
      "cell_type": "markdown",
      "metadata": {
        "id": "jgIwu27CbEyr",
        "colab_type": "text"
      },
      "source": [
        "## PREPARING DATA\n",
        "\n"
      ]
    },
    {
      "cell_type": "code",
      "metadata": {
        "id": "vB0M-BeLCpQF",
        "colab_type": "code",
        "colab": {}
      },
      "source": [
        "%reload_ext autoreload\n",
        "%autoreload 2\n",
        "%matplotlib inline\n",
        "\n",
        "import seaborn as sns\n",
        "from fastai.vision import *\n",
        "from fastai.metrics import accuracy\n",
        "\n",
        "sns.set_context(\"talk\")\n",
        "sns.set_style(\"white\")\n",
        "\n",
        "class DigitRecognition:\n",
        "  def __init__(self):\n",
        "    self.bs = 64\n",
        "    print(\"Downloading data\")\n",
        "    path = untar_data(URLs.MNIST)\n",
        "    il = ImageList.from_folder(path,convert_mode=\"L\")\n",
        "    defaults.camp = \"binary\"\n",
        "    sd = il.split_by_folder(train=\"training\",valid=\"testing\")\n",
        "    l1 = sd.label_from_folder()\n",
        "    self.interpreter = None\n",
        "    self.model = None\n",
        "    self.learner = None\n",
        "\n",
        "    tfms = ([*rand_pad(padding=3,size=28,mode=\"zeros\")],[])\n",
        "\n",
        "    l1 = l1.transform(tfms)\n",
        "    self.data = l1.databunch(bs=self.bs).normalize()\n",
        "    print(\"Handwritten digits downloaded.\\n Available data: \\n\\t{}: Training\\n\\t\"\n",
        "         \"{}: Validation\".format(self.data.train_dl.dl.dataset.x.items.shape[0], \n",
        "                                                self.data.valid_dl.dl.dataset.x.items.shape[0]))\n",
        "    \n",
        "  def visualizeBunch(self):\n",
        "    self.data.show_batch(row=4, cmap='gray_r')\n",
        "    \n",
        "    \n",
        "  def createModel(self, metrics=[accuracy, error_rate]):\n",
        "    def conv(ni,nf): return nn.Conv2d(ni, nf, kernel_size=3, stride=2, padding=1)\n",
        "    self.model = nn.Sequential(\n",
        "        conv(1, 8), # 14\n",
        "        nn.BatchNorm2d(8),\n",
        "        nn.ReLU(),\n",
        "        conv(8, 16), # 7\n",
        "        nn.BatchNorm2d(16),\n",
        "        nn.ReLU(),\n",
        "        conv(16, 32), # 4\n",
        "        nn.BatchNorm2d(32),\n",
        "        nn.ReLU(),\n",
        "        conv(32, 16), # 2\n",
        "        nn.BatchNorm2d(16),\n",
        "        nn.ReLU(),\n",
        "        conv(16, 10), # 1\n",
        "        nn.BatchNorm2d(10),\n",
        "        Flatten()     # remove (1,1) grid\n",
        "    )\n",
        "    self.learner = Learner(self.data, self.model, loss_func = nn.CrossEntropyLoss(), metrics=metrics)\n",
        "    print(\"AI model created.\")\n",
        "    \n",
        "\n",
        "  def overview(self):\n",
        "    self.learner.lr_find(end_lr=100)\n",
        "    self.learner.recorder.plot()\n",
        "    \n",
        "  def learn(self, iteration=3, learning_speed=0.01):\n",
        "    self.learner.fit_one_cycle(iteration, max_lr=learning_speed)\n",
        "    \n",
        "  def visualizeLosses(self, k):\n",
        "    self.learner.plot_top_losses(k)\n",
        "    \n",
        "  def diagnose(self, k):\n",
        "    self.interpreter = self.learner.interpret()\n",
        "    self.interpreter.plot_top_losses(k=k)\n",
        "\n"
      ],
      "execution_count": 0,
      "outputs": []
    },
    {
      "cell_type": "markdown",
      "metadata": {
        "id": "iLq9WlLreHyT",
        "colab_type": "text"
      },
      "source": [
        "## STARTING DIGIT RECOGNITION"
      ]
    },
    {
      "cell_type": "code",
      "metadata": {
        "id": "3tIlQZjaGITS",
        "colab_type": "code",
        "colab": {}
      },
      "source": [
        "digitRecognition = DigitRecognition()"
      ],
      "execution_count": 0,
      "outputs": []
    },
    {
      "cell_type": "code",
      "metadata": {
        "id": "GN6rjWMtGLwa",
        "colab_type": "code",
        "colab": {}
      },
      "source": [
        "digitRecognition.visualizeBunch()"
      ],
      "execution_count": 0,
      "outputs": []
    },
    {
      "cell_type": "markdown",
      "metadata": {
        "id": "PqSwnhpma7bD",
        "colab_type": "text"
      },
      "source": [
        "## HOW IT WORKS?"
      ]
    },
    {
      "cell_type": "markdown",
      "metadata": {
        "id": "Wn2uJo0Hf0Tx",
        "colab_type": "text"
      },
      "source": [
        "<img width=\"100%\" src=\"https://thumbs.gfycat.com/BiodegradableMildGraysquirrel-size_restricted.gif\" />\n",
        "\n",
        "Reference: [3Blue1Brown](https://www.youtube.com/watch?v=aircAruvnKk)\n",
        "\n",
        "## DATASET"
      ]
    },
    {
      "cell_type": "code",
      "metadata": {
        "id": "GiTEJOEsGNZN",
        "colab_type": "code",
        "colab": {}
      },
      "source": [
        "digitRecognition.createModel()"
      ],
      "execution_count": 0,
      "outputs": []
    },
    {
      "cell_type": "code",
      "metadata": {
        "id": "F3WnNFt1HJxo",
        "colab_type": "code",
        "colab": {}
      },
      "source": [
        "digitRecognition.overview()"
      ],
      "execution_count": 0,
      "outputs": []
    },
    {
      "cell_type": "code",
      "metadata": {
        "id": "_kmHwQxCTc0Y",
        "colab_type": "code",
        "colab": {}
      },
      "source": [
        "digitRecognition.learn(iteration=3, learning_speed=1)"
      ],
      "execution_count": 0,
      "outputs": []
    },
    {
      "cell_type": "code",
      "metadata": {
        "id": "mukb6EMco-xP",
        "colab_type": "code",
        "colab": {}
      },
      "source": [
        "digitRecognition.diagnose(16)"
      ],
      "execution_count": 0,
      "outputs": []
    },
    {
      "cell_type": "markdown",
      "metadata": {
        "id": "CTplXmEmcBV5",
        "colab_type": "text"
      },
      "source": [
        "# Try it!\n",
        "\n",
        "\n",
        "<img width=\"100%\" src=\"https://storage.googleapis.com/replit/images/1544788889542_9a1a18ed7e22f6bd88d6691aab98ca35.gi\" />\n",
        "\n",
        "\n",
        "\n",
        "#[Online Demo](https://neuralnetwork.ieatpython.repl.co/)"
      ]
    }
  ]
}